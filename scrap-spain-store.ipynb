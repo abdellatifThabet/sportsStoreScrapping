{
 "cells": [
  {
   "cell_type": "code",
   "execution_count": 7,
   "id": "ab9f8b80-06ce-46a7-950e-13c357758055",
   "metadata": {},
   "outputs": [],
   "source": [
    "from selenium import webdriver\n",
    "from webdriver_manager.chrome import ChromeDriverManager\n",
    "from time import time, sleep\n",
    "chrome_options = webdriver.ChromeOptions()\n",
    "chrome_options.add_argument('--no-sandbox')\n",
    "chrome_options.headless = True\n",
    "chrome_options.add_argument(\"--disable-notifications\")\n",
    "chrome_options.add_argument(\"--start-maximized\")\n",
    "#chrome_options.add_argument(\"--disable-dev-shm-usage\")\n",
    "from selenium.webdriver.common.by import By \n",
    "from selenium.webdriver.support.ui import WebDriverWait, Select\n",
    "from selenium.webdriver.support import expected_conditions as EC\n",
    "from selenium.webdriver.remote.webelement import WebElement\n",
    "from selenium.webdriver.common.keys import Keys\n",
    "import pandas as pd"
   ]
  },
  {
   "cell_type": "code",
   "execution_count": 8,
   "id": "45088955-1cad-4c90-bd8e-edcc4cb1f018",
   "metadata": {},
   "outputs": [],
   "source": [
    "driver = webdriver.Chrome(executable_path='./chromedriver', options=chrome_options)\n",
    "wait = WebDriverWait(driver, 10)"
   ]
  },
  {
   "cell_type": "code",
   "execution_count": 9,
   "id": "84ba04d0-30c0-49e8-bf9f-7d1ae49b6f84",
   "metadata": {},
   "outputs": [],
   "source": [
    "url = 'https://www.grupocoas.com/shop'\n",
    "driver.get(url)"
   ]
  },
  {
   "cell_type": "code",
   "execution_count": 10,
   "id": "f055a6b9-06e5-40bb-86f0-23c8cdadd693",
   "metadata": {},
   "outputs": [],
   "source": [
    "df = pd.DataFrame(columns=['product_name','product_image','brand_name','model','profile','price','reference_code','color','ref_gcs','type','size','component','sizing','description'])"
   ]
  },
  {
   "cell_type": "code",
   "execution_count": 11,
   "id": "bb29b37c-33d9-4491-a8b5-4c1f3bbaf96b",
   "metadata": {},
   "outputs": [
    {
     "name": "stdout",
     "output_type": "stream",
     "text": [
      "40 products extracted ...\n",
      "80 products extracted ...\n",
      "120 products extracted ...\n",
      "155 products extracted ...\n",
      "191 products extracted ...\n",
      "227 products extracted ...\n",
      "262 products extracted ...\n",
      "282 products extracted ...\n",
      "309 products extracted ...\n",
      "339 products extracted ...\n",
      "370 products extracted ...\n",
      "405 products extracted ...\n",
      "440 products extracted ...\n",
      "476 products extracted ...\n",
      "508 products extracted ...\n",
      "534 products extracted ...\n",
      "539 products extracted ...\n",
      "569 products extracted ...\n",
      "598 products extracted ...\n",
      "624 products extracted ...\n",
      "648 products extracted ...\n",
      "673 products extracted ...\n",
      "678 products extracted ...\n",
      "700 products extracted ...\n",
      "706 products extracted ...\n",
      "712 products extracted ...\n",
      "743 products extracted ...\n",
      "761 products extracted ...\n",
      "781 products extracted ...\n",
      "796 products extracted ...\n",
      "816 products extracted ...\n",
      "838 products extracted ...\n",
      "852 products extracted ...\n",
      "857 products extracted ...\n",
      "859 products extracted ...\n",
      "860 products extracted ...\n",
      "863 products extracted ...\n",
      "865 products extracted ...\n",
      "866 products extracted ...\n",
      "870 products extracted ...\n",
      "885 products extracted ...\n",
      "911 products extracted ...\n",
      "920 products extracted ...\n",
      "all data extracted\n"
     ]
    }
   ],
   "source": [
    "done = True\n",
    "st = 0\n",
    "while(done):\n",
    "    products = wait.until(EC.presence_of_all_elements_located((By.XPATH, \"/html/body/div[2]/main/div[1]/div[3]/div[3]/div[2]/table/tbody/tr/td\")))\n",
    "    for i, product in enumerate(products):\n",
    "        try:\n",
    "        ## from home page\n",
    "            product_image = wait.until(EC.presence_of_element_located((By.XPATH, \"/html/body/div[2]/main/div[1]/div[3]/div[3]/div[2]/table/tbody/tr/td[\"+str(i+1)+\"]/div/form/div/div/a/span/img\"))).get_attribute(\"src\")\n",
    "            brand_name = wait.until(EC.presence_of_element_located((By.XPATH, \"/html/body/div[2]/main/div[1]/div[3]/div[3]/div[2]/table/tbody/tr/td[\"+str(i+1)+\"]/div/form/div/section/h6/a[2]\"))).text\n",
    "            model = wait.until(EC.presence_of_element_located((By.XPATH, \"/html/body/div[2]/main/div[1]/div[3]/div[3]/div[2]/table/tbody/tr/td[\"+str(i+1)+\"]/div/form/div/section/h6/a[3]\"))).text\n",
    "            profile = wait.until(EC.presence_of_element_located((By.XPATH, \"/html/body/div[2]/main/div[1]/div[3]/div[3]/div[2]/table/tbody/tr/td[\"+str(i+1)+\"]/div/form/div/section/h6/a[4]\"))).text\n",
    "        \n",
    "            ############## going to details page ***************\n",
    "            next_prod = wait.until(EC.presence_of_element_located((By.XPATH, \"/html/body/div[2]/main/div[1]/div[3]/div[3]/div[2]/table/tbody/tr/td[\"+str(i+1)+\"]/div/form/div/div/a\"))).get_attribute(\"href\")\n",
    "        except:\n",
    "            continue\n",
    "        try:\n",
    "            driver.execute_script(\"window.open('\" +next_prod +\"');\")\n",
    "            # switch to new window\n",
    "            driver.switch_to.window(driver.window_handles[1])\n",
    "            ## from details page\n",
    "            product_name = wait.until(EC.presence_of_element_located((By.XPATH, \"/html/body/div[2]/main/div[1]/section[1]/div[2]/div[3]/div/div[1]/h1\"))).text\n",
    "            price = wait.until(EC.presence_of_element_located((By.XPATH, \"/html/body/div[2]/main/div[1]/div[2]/form/div/div[2]/div/h4[1]/b/span\"))).text\n",
    "            #reference_label = wait.until(EC.presence_of_element_located((By.XPATH, \"/html/body/div[2]/main/div[1]/section[1]/div[2]/div[3]/div/div[1]/strong[3]\"))).text\n",
    "            #if(reference_label == 'Ref.:'):\n",
    "            reference_code = wait.until(EC.presence_of_element_located((By.XPATH, \"/html/body/div[2]/main/div[1]/section[1]/div[2]/div[3]/div/div[1]/span[4]\"))).text\n",
    "            color = wait.until(EC.presence_of_element_located((By.XPATH, \"/html/body/div[2]/main/div[1]/section[1]/div[2]/div[3]/div/div[1]/span[5]\"))).text\n",
    "            ref_gcs = wait.until(EC.presence_of_element_located((By.XPATH, \"/html/body/div[2]/main/div[1]/section[1]/div[2]/div[3]/div/div[1]/span[7]\"))).text\n",
    "            description = wait.until(EC.presence_of_element_located((By.XPATH, \"/html/body/div[2]/main/div[1]/div[4]/p\"))).text\n",
    "            wait.until(EC.presence_of_element_located((By.XPATH, \"/html/body/div[2]/main/div[1]/div[3]/div/ul/li[2]/a\"))).click()\n",
    "            Type = wait.until(EC.presence_of_element_located((By.XPATH, \"/html/body/div[2]/main/div[1]/section[2]/div/div/table/tbody/tr[1]/td[2]\"))).text\n",
    "            size = wait.until(EC.presence_of_element_located((By.XPATH, \"/html/body/div[2]/main/div[1]/section[2]/div/div/table/tbody/tr[4]/td[2]\"))).text\n",
    "            component = wait.until(EC.presence_of_element_located((By.XPATH, \"/html/body/div[2]/main/div[1]/section[2]/div/div/table/tbody/tr[6]/td[2]\"))).text\n",
    "            sizing = wait.until(EC.presence_of_element_located((By.XPATH, \"/html/body/div[2]/main/div[1]/section[2]/div/div/table/tbody/tr[8]/td[2]\"))).text\n",
    "            df.loc[st] = [product_name, product_image, brand_name, model, profile, price, reference_code, color, ref_gcs,Type,size,component,sizing,description]\n",
    "            driver.close()\n",
    "            driver.switch_to.window(driver.window_handles[0])\n",
    "        except:\n",
    "            driver.close()\n",
    "            driver.switch_to.window(driver.window_handles[0])\n",
    "            continue\n",
    "        st = st+1\n",
    "    print(str(st)+' products extracted ...')\n",
    "    try:    \n",
    "        wait.until(EC.presence_of_element_located((By.XPATH, \"/html/body/div[2]/main/div[1]/div[3]/div[3]/div[2]/div/ul/li[9]/a\"))).click()\n",
    "    except:\n",
    "        done = False\n",
    "        print('all data extracted')"
   ]
  },
  {
   "cell_type": "code",
   "execution_count": null,
   "id": "25ff3ccc-635c-44de-9688-0ff137fae794",
   "metadata": {},
   "outputs": [],
   "source": []
  },
  {
   "cell_type": "code",
   "execution_count": null,
   "id": "1e898896-8761-4d40-a82c-c4b1f590fc9e",
   "metadata": {},
   "outputs": [],
   "source": []
  },
  {
   "cell_type": "code",
   "execution_count": 13,
   "id": "ea15a419-2217-4f0a-b36d-7dcc630d9b1b",
   "metadata": {},
   "outputs": [],
   "source": [
    "df.to_csv('data.csv', index=False)"
   ]
  },
  {
   "cell_type": "code",
   "execution_count": null,
   "id": "944bed78-a2f7-4d08-ba5e-01db99e3870b",
   "metadata": {},
   "outputs": [],
   "source": []
  },
  {
   "cell_type": "code",
   "execution_count": null,
   "id": "3f015d21-9d38-4cac-ba09-0b4d72ab8e43",
   "metadata": {},
   "outputs": [],
   "source": []
  },
  {
   "cell_type": "code",
   "execution_count": null,
   "id": "3ba5ecbd-1eec-46a5-91ea-54e71b60573c",
   "metadata": {},
   "outputs": [],
   "source": []
  },
  {
   "cell_type": "code",
   "execution_count": null,
   "id": "1126fd7f-2c25-4236-8d95-2c6e3cf4af7d",
   "metadata": {},
   "outputs": [],
   "source": []
  },
  {
   "cell_type": "code",
   "execution_count": null,
   "id": "460eb2e0-ab77-4b22-902a-8dc88bab0a6e",
   "metadata": {},
   "outputs": [],
   "source": []
  },
  {
   "cell_type": "code",
   "execution_count": null,
   "id": "24c16e6a-88e8-4e1c-adc4-ad45ea371e42",
   "metadata": {},
   "outputs": [],
   "source": []
  },
  {
   "cell_type": "code",
   "execution_count": null,
   "id": "3c8dbcb3-48a2-4777-8be2-08b7d9eac9cd",
   "metadata": {},
   "outputs": [],
   "source": []
  },
  {
   "cell_type": "code",
   "execution_count": null,
   "id": "a8ae137f-7655-4461-99b6-dfa75b740a17",
   "metadata": {},
   "outputs": [],
   "source": []
  },
  {
   "cell_type": "code",
   "execution_count": null,
   "id": "cfb80faa-e7ff-4934-87a6-7f5b41992e0d",
   "metadata": {},
   "outputs": [],
   "source": []
  },
  {
   "cell_type": "code",
   "execution_count": null,
   "id": "6a5f3617-f9ac-4d5f-a70c-9e65887e4496",
   "metadata": {},
   "outputs": [],
   "source": []
  },
  {
   "cell_type": "code",
   "execution_count": null,
   "id": "c4b2235e-7823-4cc7-b0dc-5da64406ba17",
   "metadata": {},
   "outputs": [],
   "source": []
  },
  {
   "cell_type": "code",
   "execution_count": null,
   "id": "6e092a59-87d9-4f90-8462-f81a38ab16a9",
   "metadata": {},
   "outputs": [],
   "source": []
  },
  {
   "cell_type": "code",
   "execution_count": null,
   "id": "4eaa7dce-adc9-45d4-81ff-725239e2bdae",
   "metadata": {},
   "outputs": [],
   "source": []
  },
  {
   "cell_type": "code",
   "execution_count": null,
   "id": "763e25a8-c23d-4617-a13c-fecf77664af3",
   "metadata": {},
   "outputs": [],
   "source": []
  },
  {
   "cell_type": "code",
   "execution_count": null,
   "id": "309506a8-f726-422c-9142-9ab67ba67714",
   "metadata": {},
   "outputs": [],
   "source": []
  },
  {
   "cell_type": "code",
   "execution_count": null,
   "id": "ae42668e-cd29-44c1-b497-22372176cf71",
   "metadata": {},
   "outputs": [],
   "source": []
  },
  {
   "cell_type": "code",
   "execution_count": null,
   "id": "1f313b1b-f24f-4e99-9f9d-0b4338642440",
   "metadata": {},
   "outputs": [],
   "source": []
  },
  {
   "cell_type": "code",
   "execution_count": null,
   "id": "88a28722-acb6-439f-9d53-d21a3b2439fc",
   "metadata": {},
   "outputs": [],
   "source": []
  },
  {
   "cell_type": "code",
   "execution_count": null,
   "id": "a5e1752b-c319-4e30-8052-32da702a0311",
   "metadata": {},
   "outputs": [],
   "source": []
  }
 ],
 "metadata": {
  "kernelspec": {
   "display_name": "Python 3 (ipykernel)",
   "language": "python",
   "name": "python3"
  },
  "language_info": {
   "codemirror_mode": {
    "name": "ipython",
    "version": 3
   },
   "file_extension": ".py",
   "mimetype": "text/x-python",
   "name": "python",
   "nbconvert_exporter": "python",
   "pygments_lexer": "ipython3",
   "version": "3.7.9"
  }
 },
 "nbformat": 4,
 "nbformat_minor": 5
}
