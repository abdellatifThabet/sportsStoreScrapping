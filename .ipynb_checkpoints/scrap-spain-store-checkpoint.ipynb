{
 "cells": [
  {
   "cell_type": "code",
   "execution_count": 156,
   "id": "ab9f8b80-06ce-46a7-950e-13c357758055",
   "metadata": {},
   "outputs": [],
   "source": [
    "from selenium import webdriver\n",
    "from webdriver_manager.chrome import ChromeDriverManager\n",
    "from time import time, sleep\n",
    "chrome_options = webdriver.ChromeOptions()\n",
    "chrome_options.add_argument('--no-sandbox')\n",
    "#chrome_options.headless = True\n",
    "chrome_options.add_argument(\"--disable-notifications\")\n",
    "#chrome_options.add_argument(\"--disable-dev-shm-usage\")\n",
    "from selenium.webdriver.common.by import By \n",
    "from selenium.webdriver.support.ui import WebDriverWait, Select\n",
    "from selenium.webdriver.support import expected_conditions as EC\n",
    "from selenium.webdriver.remote.webelement import WebElement\n",
    "from selenium.webdriver.common.keys import Keys\n",
    "import pandas as pd"
   ]
  },
  {
   "cell_type": "code",
   "execution_count": 157,
   "id": "45088955-1cad-4c90-bd8e-edcc4cb1f018",
   "metadata": {},
   "outputs": [],
   "source": [
    "driver = webdriver.Chrome(executable_path='./chromedriver', options=chrome_options)\n",
    "wait = WebDriverWait(driver, 10)"
   ]
  },
  {
   "cell_type": "code",
   "execution_count": 158,
   "id": "84ba04d0-30c0-49e8-bf9f-7d1ae49b6f84",
   "metadata": {},
   "outputs": [],
   "source": [
    "url = 'https://www.grupocoas.com/shop'\n",
    "driver.get(url)"
   ]
  },
  {
   "cell_type": "code",
   "execution_count": 159,
   "id": "f055a6b9-06e5-40bb-86f0-23c8cdadd693",
   "metadata": {},
   "outputs": [],
   "source": [
    "df = pd.DataFrame(columns=['product_name','product_image','brand_name','model','profile','price','reference_code','color','ref_gcs','type','size','component','sizing'])"
   ]
  },
  {
   "cell_type": "code",
   "execution_count": 160,
   "id": "bb29b37c-33d9-4491-a8b5-4c1f3bbaf96b",
   "metadata": {},
   "outputs": [],
   "source": [
    "done = False\n",
    "st = 0\n",
    "while(done):\n",
    "    products = wait.until(EC.presence_of_all_elements_located((By.XPATH, \"/html/body/div[2]/main/div[1]/div[3]/div[3]/div[2]/table/tbody/tr/td\")))\n",
    "    for i, product in enumerate(products):\n",
    "        ## from home page\n",
    "        product_image = wait.until(EC.presence_of_element_located((By.XPATH, \"/html/body/div[2]/main/div[1]/div[3]/div[3]/div[2]/table/tbody/tr/td[\"+str(i+1)+\"]/div/form/div/div/a/span/img\"))).get_attribute(\"src\")\n",
    "        brand_name = wait.until(EC.presence_of_element_located((By.XPATH, \"/html/body/div[2]/main/div[1]/div[3]/div[3]/div[2]/table/tbody/tr/td[\"+str(i+1)+\"]/div/form/div/section/h6/a[2]\"))).text\n",
    "        model = wait.until(EC.presence_of_element_located((By.XPATH, \"/html/body/div[2]/main/div[1]/div[3]/div[3]/div[2]/table/tbody/tr/td[\"+str(i+1)+\"]/div/form/div/section/h6/a[3]\"))).text\n",
    "        profile = wait.until(EC.presence_of_element_located((By.XPATH, \"/html/body/div[2]/main/div[1]/div[3]/div[3]/div[2]/table/tbody/tr/td[\"+str(i+1)+\"]/div/form/div/section/h6/a[4]\"))).text\n",
    "        ############## going to details page ***************\n",
    "        next_prod = wait.until(EC.presence_of_element_located((By.XPATH, \"/html/body/div[2]/main/div[1]/div[3]/div[3]/div[2]/table/tbody/tr/td[1]/div/form/div/div/a\"))).get_attribute(\"href\")\n",
    "        driver.execute_script(\"window.open('\" +next_prod +\"');\")\n",
    "        # switch to new window\n",
    "        driver.switch_to.window(driver.window_handles[1])\n",
    "        ## from details page\n",
    "        product_name = wait.until(EC.presence_of_element_located((By.XPATH, \"/html/body/div[2]/main/div[1]/section[1]/div[2]/div[3]/div/div[1]/h1\"))).text\n",
    "        price = wait.until(EC.presence_of_element_located((By.XPATH, \"/html/body/div[2]/main/div[1]/div[2]/form/div/div[2]/div/h4[1]/b/span\"))).text\n",
    "        #reference_label = wait.until(EC.presence_of_element_located((By.XPATH, \"/html/body/div[2]/main/div[1]/section[1]/div[2]/div[3]/div/div[1]/strong[3]\"))).text\n",
    "        #if(reference_label == 'Ref.:'):\n",
    "        reference_code = wait.until(EC.presence_of_element_located((By.XPATH, \"/html/body/div[2]/main/div[1]/section[1]/div[2]/div[3]/div/div[1]/span[4]\"))).text\n",
    "        color = wait.until(EC.presence_of_element_located((By.XPATH, \"/html/body/div[2]/main/div[1]/section[1]/div[2]/div[3]/div/div[1]/span[5]\"))).text\n",
    "        ref_gcs = wait.until(EC.presence_of_element_located((By.XPATH, \"/html/body/div[2]/main/div[1]/section[1]/div[2]/div[3]/div/div[1]/span[7]\"))).text\n",
    "\n",
    "        wait.until(EC.presence_of_element_located((By.XPATH, \"/html/body/div[2]/main/div[1]/div[3]/div/ul/li[2]/a\"))).click()\n",
    "        Type = wait.until(EC.presence_of_element_located((By.XPATH, \"/html/body/div[2]/main/div[1]/section[2]/div/div/table/tbody/tr[1]/td[2]\"))).text\n",
    "        size = wait.until(EC.presence_of_element_located((By.XPATH, \"/html/body/div[2]/main/div[1]/section[2]/div/div/table/tbody/tr[4]/td[2]\"))).text\n",
    "        component = wait.until(EC.presence_of_element_located((By.XPATH, \"/html/body/div[2]/main/div[1]/section[2]/div/div/table/tbody/tr[6]/td[2]\"))).text\n",
    "        sizing = wait.until(EC.presence_of_element_located((By.XPATH, \"/html/body/div[2]/main/div[1]/section[2]/div/div/table/tbody/tr[8]/td[2]\"))).text\n",
    "        driver.close()\n",
    "        driver.switch_to.window(driver.window_handles[0])\n",
    "        df.loc[st] = [product_name, product_image, brand_name, model, profile, price, reference_code, color, ref_gcs,Type,size,component,sizing]\n",
    "        st = st+1\n",
    "    print(str(st)+' products extracted ...')\n",
    "    try:    \n",
    "        wait.until(EC.presence_of_element_located((By.XPATH, \"/html/body/div[2]/main/div[1]/div[3]/div[1]/ul/li[9]/a\"))).click()\n",
    "    except:\n",
    "        done = True\n",
    "        print('all data extracted')"
   ]
  },
  {
   "cell_type": "code",
   "execution_count": null,
   "id": "2a11112a-cc48-43da-9718-42717ce669de",
   "metadata": {},
   "outputs": [],
   "source": []
  },
  {
   "cell_type": "code",
   "execution_count": null,
   "id": "7e789d12-fe8e-49e9-9637-721e07be3514",
   "metadata": {},
   "outputs": [],
   "source": []
  },
  {
   "cell_type": "code",
   "execution_count": null,
   "id": "c7fb05f9-3df7-441f-9b83-bacc49a241ac",
   "metadata": {},
   "outputs": [],
   "source": []
  },
  {
   "cell_type": "code",
   "execution_count": null,
   "id": "2d0368d4-57e9-4500-a1b2-82ef662d5ac5",
   "metadata": {},
   "outputs": [],
   "source": []
  },
  {
   "cell_type": "code",
   "execution_count": null,
   "id": "ea15a419-2217-4f0a-b36d-7dcc630d9b1b",
   "metadata": {},
   "outputs": [],
   "source": [
    "df.to_csv('data.csv', index=False)"
   ]
  },
  {
   "cell_type": "code",
   "execution_count": null,
   "id": "87f475bb-ba41-4559-8aa0-b33cdca6c768",
   "metadata": {},
   "outputs": [],
   "source": []
  },
  {
   "cell_type": "code",
   "execution_count": null,
   "id": "e96a6fa1-d1ef-43ad-a030-89473eed5676",
   "metadata": {},
   "outputs": [],
   "source": []
  },
  {
   "cell_type": "code",
   "execution_count": null,
   "id": "08193fd6-bff0-4baa-9bfa-57a0ad881b8c",
   "metadata": {},
   "outputs": [],
   "source": []
  },
  {
   "cell_type": "code",
   "execution_count": null,
   "id": "1126fd7f-2c25-4236-8d95-2c6e3cf4af7d",
   "metadata": {},
   "outputs": [],
   "source": []
  },
  {
   "cell_type": "code",
   "execution_count": null,
   "id": "460eb2e0-ab77-4b22-902a-8dc88bab0a6e",
   "metadata": {},
   "outputs": [],
   "source": []
  },
  {
   "cell_type": "code",
   "execution_count": null,
   "id": "24c16e6a-88e8-4e1c-adc4-ad45ea371e42",
   "metadata": {},
   "outputs": [],
   "source": []
  },
  {
   "cell_type": "code",
   "execution_count": null,
   "id": "3c8dbcb3-48a2-4777-8be2-08b7d9eac9cd",
   "metadata": {},
   "outputs": [],
   "source": []
  },
  {
   "cell_type": "code",
   "execution_count": null,
   "id": "a8ae137f-7655-4461-99b6-dfa75b740a17",
   "metadata": {},
   "outputs": [],
   "source": []
  },
  {
   "cell_type": "code",
   "execution_count": null,
   "id": "cfb80faa-e7ff-4934-87a6-7f5b41992e0d",
   "metadata": {},
   "outputs": [],
   "source": []
  },
  {
   "cell_type": "code",
   "execution_count": null,
   "id": "6a5f3617-f9ac-4d5f-a70c-9e65887e4496",
   "metadata": {},
   "outputs": [],
   "source": []
  },
  {
   "cell_type": "code",
   "execution_count": null,
   "id": "c4b2235e-7823-4cc7-b0dc-5da64406ba17",
   "metadata": {},
   "outputs": [],
   "source": []
  },
  {
   "cell_type": "code",
   "execution_count": null,
   "id": "6e092a59-87d9-4f90-8462-f81a38ab16a9",
   "metadata": {},
   "outputs": [],
   "source": []
  },
  {
   "cell_type": "code",
   "execution_count": null,
   "id": "4eaa7dce-adc9-45d4-81ff-725239e2bdae",
   "metadata": {},
   "outputs": [],
   "source": []
  },
  {
   "cell_type": "code",
   "execution_count": null,
   "id": "763e25a8-c23d-4617-a13c-fecf77664af3",
   "metadata": {},
   "outputs": [],
   "source": []
  },
  {
   "cell_type": "code",
   "execution_count": null,
   "id": "309506a8-f726-422c-9142-9ab67ba67714",
   "metadata": {},
   "outputs": [],
   "source": []
  },
  {
   "cell_type": "code",
   "execution_count": null,
   "id": "ae42668e-cd29-44c1-b497-22372176cf71",
   "metadata": {},
   "outputs": [],
   "source": []
  },
  {
   "cell_type": "code",
   "execution_count": null,
   "id": "1f313b1b-f24f-4e99-9f9d-0b4338642440",
   "metadata": {},
   "outputs": [],
   "source": []
  },
  {
   "cell_type": "code",
   "execution_count": null,
   "id": "88a28722-acb6-439f-9d53-d21a3b2439fc",
   "metadata": {},
   "outputs": [],
   "source": []
  },
  {
   "cell_type": "code",
   "execution_count": 66,
   "id": "d6bf88ff-d39b-4e83-acbe-d52a6f98fbcc",
   "metadata": {},
   "outputs": [],
   "source": [
    "## from home page\n",
    "product_image = wait.until(EC.presence_of_element_located((By.XPATH, \"/html/body/div[2]/main/div[1]/div[3]/div[3]/div[2]/table/tbody/tr/td[1]/div/form/div/div/a/span/img\"))).get_attribute(\"src\")\n",
    "brand_name = wait.until(EC.presence_of_element_located((By.XPATH, \"/html/body/div[2]/main/div[1]/div[3]/div[3]/div[2]/table/tbody/tr/td[1]/div/form/div/section/h6/a[2]\"))).text\n",
    "model = wait.until(EC.presence_of_element_located((By.XPATH, \"/html/body/div[2]/main/div[1]/div[3]/div[3]/div[2]/table/tbody/tr/td[1]/div/form/div/section/h6/a[3]\"))).text\n",
    "profile = wait.until(EC.presence_of_element_located((By.XPATH, \"/html/body/div[2]/main/div[1]/div[3]/div[3]/div[2]/table/tbody/tr/td[1]/div/form/div/section/h6/a[4]\"))).text\n"
   ]
  },
  {
   "cell_type": "code",
   "execution_count": null,
   "id": "6c5b524f-87a8-4d19-b1da-1486914aad41",
   "metadata": {},
   "outputs": [],
   "source": []
  },
  {
   "cell_type": "code",
   "execution_count": 139,
   "id": "3887f785-2956-431f-bccd-f59fe3ec325c",
   "metadata": {},
   "outputs": [],
   "source": [
    "next_prod = wait.until(EC.presence_of_element_located((By.XPATH, \"/html/body/div[2]/main/div[1]/div[3]/div[3]/div[2]/table/tbody/tr/td[1]/div/form/div/div/a\"))).get_attribute(\"href\")\n",
    "driver.execute_script(\"window.open('\" +next_prod +\"');\")\n",
    "# switch to new window\n",
    "driver.switch_to.window(driver.window_handles[1])\n",
    "\n",
    "## from details page\n",
    "product_name = wait.until(EC.presence_of_element_located((By.XPATH, \"/html/body/div[2]/main/div[1]/section[1]/div[2]/div[3]/div/div[1]/h1\"))).text\n",
    "price = wait.until(EC.presence_of_element_located((By.XPATH, \"/html/body/div[2]/main/div[1]/div[2]/form/div/div[2]/div/h4[1]/b/span\"))).text\n",
    "#reference_label = wait.until(EC.presence_of_element_located((By.XPATH, \"/html/body/div[2]/main/div[1]/section[1]/div[2]/div[3]/div/div[1]/strong[3]\"))).text\n",
    "#if(reference_label == 'Ref.:'):\n",
    "reference_code = wait.until(EC.presence_of_element_located((By.XPATH, \"/html/body/div[2]/main/div[1]/section[1]/div[2]/div[3]/div/div[1]/span[4]\"))).text\n",
    "color = wait.until(EC.presence_of_element_located((By.XPATH, \"/html/body/div[2]/main/div[1]/section[1]/div[2]/div[3]/div/div[1]/span[5]\"))).text\n",
    "ref_gcs = wait.until(EC.presence_of_element_located((By.XPATH, \"/html/body/div[2]/main/div[1]/section[1]/div[2]/div[3]/div/div[1]/span[7]\"))).text\n",
    "\n",
    "wait.until(EC.presence_of_element_located((By.XPATH, \"/html/body/div[2]/main/div[1]/div[3]/div/ul/li[2]/a\"))).click()\n",
    "Type = wait.until(EC.presence_of_element_located((By.XPATH, \"/html/body/div[2]/main/div[1]/section[2]/div/div/table/tbody/tr[1]/td[2]\"))).text\n",
    "size = wait.until(EC.presence_of_element_located((By.XPATH, \"/html/body/div[2]/main/div[1]/section[2]/div/div/table/tbody/tr[4]/td[2]\"))).text\n",
    "component = wait.until(EC.presence_of_element_located((By.XPATH, \"/html/body/div[2]/main/div[1]/section[2]/div/div/table/tbody/tr[6]/td[2]\"))).text\n",
    "sizing = wait.until(EC.presence_of_element_located((By.XPATH, \"/html/body/div[2]/main/div[1]/section[2]/div/div/table/tbody/tr[8]/td[2]\"))).text\n",
    "driver.close()\n",
    "driver.switch_to.window(driver.window_handles[0])"
   ]
  },
  {
   "cell_type": "code",
   "execution_count": null,
   "id": "a5e1752b-c319-4e30-8052-32da702a0311",
   "metadata": {},
   "outputs": [],
   "source": []
  }
 ],
 "metadata": {
  "kernelspec": {
   "display_name": "Python 3 (ipykernel)",
   "language": "python",
   "name": "python3"
  },
  "language_info": {
   "codemirror_mode": {
    "name": "ipython",
    "version": 3
   },
   "file_extension": ".py",
   "mimetype": "text/x-python",
   "name": "python",
   "nbconvert_exporter": "python",
   "pygments_lexer": "ipython3",
   "version": "3.7.9"
  }
 },
 "nbformat": 4,
 "nbformat_minor": 5
}
